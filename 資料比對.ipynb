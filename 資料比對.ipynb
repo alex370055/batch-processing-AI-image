{
  "metadata": {
    "language_info": {
      "codemirror_mode": {
        "name": "python",
        "version": 3
      },
      "file_extension": ".py",
      "mimetype": "text/x-python",
      "name": "python",
      "nbconvert_exporter": "python",
      "pygments_lexer": "ipython3",
      "version": "3.8"
    },
    "kernelspec": {
      "name": "python",
      "display_name": "Pyolite",
      "language": "python"
    }
  },
  "nbformat_minor": 4,
  "nbformat": 4,
  "cells": [
    {
      "cell_type": "code",
      "source": "#將資料夾內指定類型的文件重新取名，並將改完的名字依序存入txt檔案\n#===========================================================================\n#Readme\n#自訂義\npath = r\"C:/Users/user/Desktop/rotation/X\" #指定資料夾路徑(string前面+r可以保證string不會被轉義)\nfile_extension = r\".xml\" #指定副檔名\n#===========================================================================\nimport os\n\n#批量重新命名\ntxt = open('file_name.txt', 'w') #創一個新的txt\nf=[_ for _ in os.listdir(path) if _.endswith(file_extension)] #存取所有指定附檔名的文件\nfor i in range(0,len(f)):\n    oldname = f[i] #設定舊檔名（就是路徑+檔名）\n    newname = str(i+1) + 'E.xml' #設定新檔名\n    os.rename(path+'/'+oldname, path+'/'+newname) #用os模組中的rename方法對檔案改名\n    print(oldname, '======>', newname)\n    txt.write(path+'/'+newname+'\\n') #寫入文字檔\ntxt.close()",
      "metadata": {
        "trusted": true
      },
      "execution_count": null,
      "outputs": []
    },
    {
      "cell_type": "code",
      "source": "",
      "metadata": {},
      "execution_count": null,
      "outputs": []
    }
  ]
}